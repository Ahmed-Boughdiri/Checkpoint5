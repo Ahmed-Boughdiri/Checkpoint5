{
 "cells": [
  {
   "cell_type": "code",
   "execution_count": 8,
   "metadata": {},
   "outputs": [],
   "source": [
    "import random,csv\n",
    "\n",
    "def loadDataset(filename, split, trainingSet=[] , testSet=[]):\n",
    "    with open(filename, 'r') as csvfile:\n",
    "        lines = csv.reader(csvfile)\n",
    "        dataset = list(lines)\n",
    "        for x in range(len(dataset)-1):\n",
    "            for y in range(4):\n",
    "                dataset[x][y] = float(dataset[x][y])\n",
    "            if random.random() < split:\n",
    "                trainingSet.append(dataset[x])\n",
    "            else:\n",
    "                testSet.append(dataset[x])"
   ]
  },
  {
   "cell_type": "code",
   "execution_count": 9,
   "metadata": {},
   "outputs": [],
   "source": [
    "import math\n",
    "\n",
    "def euclideanDistance(instance1, instance2, length):\n",
    "    sigma = 0\n",
    "    for x in range(length):\n",
    "        sigma += math.pow(instance1[x]-instance2[x],2)\n",
    "    return math.sqrt(sigma)\n",
    "\n",
    "def manhatenDistance(instance1, instance2, length):\n",
    "    sigma = 0\n",
    "    for x in range(length):\n",
    "        sigma += abs(instance1[x]-instance2[x])\n",
    "    return sigma\n",
    "\n",
    "def MinkowskiDistance(instance1, instance2, length):\n",
    "    sigma = 0\n",
    "    for x in range(length):\n",
    "        sigma += abs(math.pow(instance1[x]-instance2[x],3))\n",
    "    return sigma**1/3"
   ]
  },
  {
   "cell_type": "code",
   "execution_count": 10,
   "metadata": {},
   "outputs": [],
   "source": [
    "import operator\n",
    "\n",
    "def getNeighbors(trainingSet, testInstance, k):\n",
    "    distances = []\n",
    "    length = len(testInstance)-1\n",
    "    for x in range(len(trainingSet)):\n",
    "        dist = euclideanDistance(testInstance, trainingSet[x], length)\n",
    "        distances.append((trainingSet[x], dist))\n",
    "        distances.sort(key=operator.itemgetter(1))\n",
    "        neighbors = []\n",
    "    for x in range(k):\n",
    "        neighbors.append(distances[x][0])\n",
    "    return neighbors\n",
    "\n",
    "def getNeighbors1(trainingSet, testInstance, k):\n",
    "    distances = []\n",
    "    length = len(testInstance)-1\n",
    "    for x in range(len(trainingSet)):\n",
    "        dist = manhatenDistance(testInstance, trainingSet[x], length)\n",
    "        distances.append((trainingSet[x], dist))\n",
    "        distances.sort(key=operator.itemgetter(1))\n",
    "        neighbors = []\n",
    "    for x in range(k):\n",
    "        neighbors.append(distances[x][0])\n",
    "    return neighbors\n",
    "\n",
    "def getNeighbors2(trainingSet, testInstance, k):\n",
    "    distances = []\n",
    "    length = len(testInstance)-1\n",
    "    for x in range(len(trainingSet)):\n",
    "        dist = manhatenDistance(testInstance, trainingSet[x], length)\n",
    "        distances.append((trainingSet[x], dist))\n",
    "        distances.sort(key=operator.itemgetter(1))\n",
    "        neighbors = []\n",
    "    for x in range(k):\n",
    "        neighbors.append(distances[x][0])\n",
    "    return neighbors"
   ]
  },
  {
   "cell_type": "code",
   "execution_count": 11,
   "metadata": {},
   "outputs": [],
   "source": [
    "import operator\n",
    "\n",
    "def getResponse(neighbors):\n",
    "    classVotes = {}\n",
    "    for x in range(len(neighbors)):\n",
    "        response = neighbors[x][-1] #complete with appropriate number\n",
    "        if response in classVotes:\n",
    "            classVotes[response] += 1\n",
    "        else:\n",
    "            classVotes[response] = 1\n",
    "        sortedVotes = sorted(classVotes.items(), key=operator.itemgetter(1), reverse=True)\n",
    "    return sortedVotes[0][0]"
   ]
  },
  {
   "cell_type": "code",
   "execution_count": 12,
   "metadata": {},
   "outputs": [],
   "source": [
    "def getAccuracy(testSet, predictions):\n",
    "    correct = 0\n",
    "    for x in range(len(testSet)-1):\n",
    "        if(testSet[x][-1] == predictions[x]):\n",
    "            correct += 1\n",
    "    return (correct/float(len(testSet))) * 100.0"
   ]
  },
  {
   "cell_type": "code",
   "execution_count": 13,
   "metadata": {},
   "outputs": [],
   "source": [
    "def main():\n",
    "    trainingSet = []\n",
    "    testSet = []\n",
    "    # Handle Data\n",
    "    loadDataset(\"iris.data.txt\", 0.66, trainingSet , testSet)\n",
    "    # Similarity\n",
    "    predictions = []\n",
    "    for i in range(len(testSet)):\n",
    "        # Neighbors\n",
    "        neighbors = getNeighbors(trainingSet, testSet[i], 1)\n",
    "        # Response\n",
    "        response = getResponse(neighbors)\n",
    "        predictions.append(response)\n",
    "        # Accuracy\n",
    "    return getAccuracy(testSet,predictions)\n",
    "\n",
    "def main1():\n",
    "    trainingSet = []\n",
    "    testSet = []\n",
    "    # Handle Data\n",
    "    loadDataset(\"iris.data.txt\", 0.66, trainingSet , testSet)\n",
    "    # Similarity\n",
    "    predictions = []\n",
    "    for i in range(len(testSet)):\n",
    "        # Neighbors\n",
    "        neighbors = getNeighbors(trainingSet, testSet[i], 1)\n",
    "        # Response\n",
    "        response = getResponse(neighbors)\n",
    "        predictions.append(response)\n",
    "        # Accuracy\n",
    "    return getAccuracy(testSet,predictions)\n",
    "\n",
    "def main2():\n",
    "    trainingSet = []\n",
    "    testSet = []\n",
    "    # Handle Data\n",
    "    loadDataset(\"iris.data.txt\", 0.66, trainingSet , testSet)\n",
    "    # Similarity\n",
    "    predictions = []\n",
    "    for i in range(len(testSet)):\n",
    "        # Neighbors\n",
    "        neighbors = getNeighbors(trainingSet, testSet[i], 1)\n",
    "        # Response\n",
    "        response = getResponse(neighbors)\n",
    "        predictions.append(response)\n",
    "        # Accuracy\n",
    "    return getAccuracy(testSet,predictions)"
   ]
  },
  {
   "cell_type": "code",
   "execution_count": 14,
   "metadata": {},
   "outputs": [
    {
     "name": "stdout",
     "output_type": "stream",
     "text": [
      "91.83673469387756\n",
      "94.0\n",
      "96.42857142857143\n"
     ]
    }
   ],
   "source": [
    "print(main())\n",
    "print(main1())\n",
    "print(main2())"
   ]
  },
  {
   "cell_type": "code",
   "execution_count": null,
   "metadata": {},
   "outputs": [],
   "source": []
  }
 ],
 "metadata": {
  "kernelspec": {
   "display_name": "Python 3",
   "language": "python",
   "name": "python3"
  },
  "language_info": {
   "codemirror_mode": {
    "name": "ipython",
    "version": 3
   },
   "file_extension": ".py",
   "mimetype": "text/x-python",
   "name": "python",
   "nbconvert_exporter": "python",
   "pygments_lexer": "ipython3",
   "version": "3.8.3"
  }
 },
 "nbformat": 4,
 "nbformat_minor": 4
}
